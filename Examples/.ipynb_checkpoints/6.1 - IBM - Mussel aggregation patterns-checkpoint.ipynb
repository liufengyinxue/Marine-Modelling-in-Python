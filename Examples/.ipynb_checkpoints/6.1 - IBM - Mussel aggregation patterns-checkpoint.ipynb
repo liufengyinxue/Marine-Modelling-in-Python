{
 "cells": [
  {
   "cell_type": "markdown",
   "metadata": {},
   "source": [
    "# Implementing an individual-based model (IBM) of mussel aggregation\n",
    "\n",
    "In the prior sections, you have studied how localized interactions can affect the spatial structure of a population or ecosystem. But what if we want to model, for instance, the movement of fish in a school, or the movement of a limited number of predators in a landscape (think of a small number of puma in an American park). For that, we can’t use a model that puts the individuals on a lattice of equal-sized cells, but we should explicitly model the location of the animals in a two-dimensional or three-dimensional space. \n",
    "\n",
    "In this chapter, we will implement a model from the general class of *agent-based models*. The term agent is used throughout science to indicate an autonomous unit that can make decisions to achieving a particular goal, and that adapts these decisions to changes in the environment or situation that it experiences. In ecology, an agent is often an individual organism. Each individual organism is described by a set of characteristics, for instance it’s coordinates in space, it’s size, or whether it is hungry or not (e.g., a state). \n",
    "\n",
    "A cellular automaton can be used to model sessile individuals such as plants on a square lattice. Cellular automata are very simple to model, but have the disadvantage that the organisms cannot simply move around, and can only be described by a limited number of states. When modeling a school of fish, a cellular automaton is obviously too limited. We need to develop a program in which for instance the changes in the organism’s physical location, its’ growth and its decisions are explicitly modeled. Below, we will develop a simple individual-based model in Python, using self-organized patch formation of mussels as an example.\n",
    "\n",
    "![Mussel aggregation patterns](https://johanvandekoppel.files.wordpress.com/2013/07/cropped-20130703-112450.jpg)\n",
    "\n",
    "### Self-organized mussel patterns\n",
    "\n",
    "In intertidal environments, many organisms attach strongly to a surface, for instance a rock, to avoid being dislodged by waves and water flow. Mussels in the rocky intertidal, for instance, attach to the rock surface with byssus threads. On sandy sediment, no firm substrate is available, so mussels attach to each other, forming clumps and strings of mussels (see figure 1). These strings and clumps can form self-organized patterns that look very similar to the patterns formed in arid ecosystems (e.g, leopard bush). \n",
    "\n",
    "A laboratory study on mussel aggregation dynamics revealed that mussels can aggregated to produce these spatial patterns on very short timescales, e.g., within a day.\n",
    "\n",
    "The citation is:  \n",
    "*Van de Koppel, J., Gascoigne, J.C., Theraulaz, G., Rietkerk, M., Mooij W.M., & Herman, P.M.J. 2008 Experimental evidence for spatial self-organization and its emergent effects in mussel beds. Science 322:739-742.*\n",
    "\n",
    "When the relation between the movement speed and the number of neighbors was investigated, a complex behavior was observed. The behavior can be summarized as follows:  \n",
    "•\tMussels move with high speed when they are alone.  \n",
    "•\tWhen the number of mussels in the direct neighborhoods increases, mussel movement speed decreases.  \n",
    "•\tWhen the number of mussels in the total aggregate, at a scale of +- 10 cm, increases too much, mussels again start to move faster, moving out of clusters that are too large.  \n",
    "\n",
    "In this section, we will model the movement of mussels to test whether the above description of individual movement is sufficient to recreate the patterns that are described in the paper. For this, we will describe mussel movement, in terms of its step size and direction per time unit, as a stochastic process, e.g., a random walk. The step size is not entirely random, of course, but is a function of the local density of mussels. Inspection of the data revealed that the mussels do random walk that is best described by an exponential distribution of step sizes:  \n",
    "$$\n",
    "\\begin{aligned}\n",
    "F(x)= \\frac{1}{β} exp \\big(\\frac{-x}{β}\\big), \n",
    "\\end{aligned}\n",
    "$$\n",
    "\n",
    "Here, x is the step size and β a scaling parameter).\n",
    "\n",
    "Below, we implement this model in Python"
   ]
  },
  {
   "cell_type": "markdown",
   "metadata": {},
   "source": [
    "### Loading required modules"
   ]
  },
  {
   "cell_type": "code",
   "execution_count": null,
   "metadata": {},
   "outputs": [],
   "source": [
    "import numpy as np\n",
    "import matplotlib.pyplot as plt\n",
    "import time, os\n",
    "%matplotlib inline"
   ]
  },
  {
   "cell_type": "markdown",
   "metadata": {},
   "source": [
    "### Parameter definition "
   ]
  },
  {
   "cell_type": "code",
   "execution_count": null,
   "metadata": {},
   "outputs": [],
   "source": [
    "N            =  2000;    # Total number of mussels\n",
    "Length       =  50.0;    # Length of the arena \n",
    "EndTime      =   300;    # 300 - Number of timesteps in minutes\n",
    "\n",
    "# Parameters of the function relating density to movement speed\n",
    "P1           = 100.0;    # 100\n",
    "P2           = -80.0;    # -80\n",
    "P3           =   3.0;    # 3\n",
    "\n",
    "D1           =   2.0;    # 2 - Size of the direct neighborhood\n",
    "D2           =   6.0;    # 6 - Size of the cluster neighborhood"
   ]
  },
  {
   "cell_type": "markdown",
   "metadata": {},
   "source": [
    "### Graphical parameters"
   ]
  },
  {
   "cell_type": "code",
   "execution_count": null,
   "metadata": {},
   "outputs": [],
   "source": [
    "WinWidth     =   960;    #   - Width of the simulation window \n",
    "WinHeight    =   720;    #   - Height of the simulation window\n",
    "\n",
    "MusselSize   = (1500.0/Length)  # Size of the marker"
   ]
  },
  {
   "cell_type": "markdown",
   "metadata": {},
   "source": [
    "### Array declarations"
   ]
  },
  {
   "cell_type": "code",
   "execution_count": null,
   "metadata": {},
   "outputs": [],
   "source": [
    "Stepsize  = np.zeros(N)\n",
    "Angle     = np.zeros(N)\n",
    "Distance  = np.zeros((N,N))\n",
    "Diagonal  = np.zeros((N,N))\n",
    "np.fill_diagonal(Diagonal, 1)\n",
    "\n",
    "## Randomly distributing the data across the domain\n",
    "X=np.random.rand(N)*Length\n",
    "Y=np.random.rand(N)*Length"
   ]
  },
  {
   "cell_type": "markdown",
   "metadata": {},
   "source": [
    "### Function computing the distance matrix"
   ]
  },
  {
   "cell_type": "code",
   "execution_count": null,
   "metadata": {},
   "outputs": [],
   "source": [
    "def dist(x,y):\n",
    "    dx = x[..., np.newaxis] - x[np.newaxis, ...]\n",
    "    dy = y[..., np.newaxis] - y[np.newaxis, ...]\n",
    "    d = np.array([dx,dy])\n",
    "    return (d**2).sum(axis=0)**0.5"
   ]
  },
  {
   "cell_type": "code",
   "execution_count": null,
   "metadata": {},
   "outputs": [],
   "source": [
    "from numba import njit,prange\n",
    "\n",
    "@njit(parallel=True)\n",
    "def distp(x,y):\n",
    "    d = np.zeros((x.shape[0],y.shape[0]))\n",
    "    for j in prange(y.shape[0]):\n",
    "        for i in prange(x.shape[0]): \n",
    "            d[i,j]=np.sqrt( (x[j]-x[i])**2 + (y[j]-y[i])**2)\n",
    "    return d"
   ]
  },
  {
   "cell_type": "markdown",
   "metadata": {},
   "source": [
    "### Main simulation loop"
   ]
  },
  {
   "cell_type": "code",
   "execution_count": null,
   "metadata": {},
   "outputs": [],
   "source": [
    "# Storage variables\n",
    "Xs=np.zeros((N,EndTime))\n",
    "Ys=np.zeros((N,EndTime))\n",
    "\n",
    "# Setting up time profiling\n",
    "start_time = time.time()\n",
    "\n",
    "for Time in range(EndTime):\n",
    "    \n",
    "    # Calculating distances between all individual mussels\n",
    "    Distance=dist(X,Y);\n",
    "  \n",
    "    # Checking which mussels are within ranges D1 and D2\n",
    "    Nr_In_Dist1 = (Distance<D1)*1.0-Diagonal;\n",
    "    Nr_In_Dist2 = (Distance<D2)*1.0-Diagonal; \n",
    "  \n",
    "    # Calculating, for each mussel, the density of the local neighborhood\n",
    "    Density_In_Dist1 = Nr_In_Dist1.sum(axis=0)/(D1**2*np.pi); # sum/surface\n",
    "    Density_In_Dist2 = Nr_In_Dist2.sum(axis=0)/(D2**2*np.pi); # sum/surface\n",
    "  \n",
    "    # Determining StepSize and Angle from the Densities\n",
    "    Beta = 1/(np.maximum(0.001,P1*Density_In_Dist1+P2*Density_In_Dist2)+P3);\n",
    "    Stepsize = - Beta * np.log(np.random.rand(N));\n",
    "    Angle = np.random.rand(N)*360.0;\n",
    "  \n",
    "    # Converting Speed S en Angle A to new X and Y coordinates\n",
    "    X = X + np.sin(Angle/180.0*np.pi)*Stepsize;\n",
    "    Y = Y + np.cos(Angle/180.0*np.pi)*Stepsize;\n",
    "  \n",
    "    #Boundary Conditions, mussels are moved back to the domain if out\n",
    "    X = X + Length*(X<0) - Length*(X>Length)\n",
    "    Y = Y + Length*(Y<0) - Length*(Y>Length)    \n",
    "\n",
    "    Xs[:,Time]=X\n",
    "    Ys[:,Time]=Y\n",
    "\n",
    "elapsed_time = time.time() - start_time    \n",
    "print(\" Simulation took      : %1.1f (s)\" % (elapsed_time))"
   ]
  },
  {
   "cell_type": "markdown",
   "metadata": {},
   "source": [
    "### Plotting the results"
   ]
  },
  {
   "cell_type": "code",
   "execution_count": null,
   "metadata": {},
   "outputs": [],
   "source": [
    "fig, ax = plt.subplots(1, 1, figsize=(9, 9))\n",
    "P, = ax.plot(X,Y, 'b.', markersize=MusselSize);\n",
    "ax.set_title(\"Mussel aggregation\", fontsize=16)\n",
    "text=fig.suptitle(\"Time: %1.0f of %1.0f\" % ((EndTime, EndTime)), x=0.52, y=0.08, fontsize=14);"
   ]
  },
  {
   "cell_type": "markdown",
   "metadata": {},
   "source": [
    "### Making an animation"
   ]
  },
  {
   "cell_type": "code",
   "execution_count": null,
   "metadata": {},
   "outputs": [],
   "source": [
    "from matplotlib import animation, rc\n",
    "\n",
    "def updatefig(i): # To update the image at each iteration\n",
    "    P.set_xdata(Xs[:,i])\n",
    "    P.set_ydata(Ys[:,i])\n",
    "    text.set_text(\"Time: %01.0f of %1.0f\" % (i+1, EndTime));\n",
    "    return P,\n",
    "\n",
    "ani = animation.FuncAnimation(fig, updatefig, \n",
    "                              interval=100, frames = EndTime, repeat=False, blit=True)\n",
    "\n",
    "from IPython.display import HTML\n",
    "HTML(ani.to_html5_video())"
   ]
  },
  {
   "cell_type": "markdown",
   "metadata": {},
   "source": [
    "© Johan van de Koppel, NIOZ-Yerseke 2018"
   ]
  }
 ],
 "metadata": {
  "kernelspec": {
   "display_name": "Python 3",
   "language": "python",
   "name": "python3"
  },
  "language_info": {
   "codemirror_mode": {
    "name": "ipython",
    "version": 3
   },
   "file_extension": ".py",
   "mimetype": "text/x-python",
   "name": "python",
   "nbconvert_exporter": "python",
   "pygments_lexer": "ipython3",
   "version": "3.6.4"
  }
 },
 "nbformat": 4,
 "nbformat_minor": 4
}
